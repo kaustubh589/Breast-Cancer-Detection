{
  "cells": [
    {
      "cell_type": "markdown",
      "metadata": {
        "id": "MMs0Y9u6bZXw"
      },
      "source": [
        "## Prepare Dataset for Machine Learning\n"
      ]
    },
    {
      "cell_type": "markdown",
      "metadata": {
        "id": "F7zxd_n1bZXw"
      },
      "source": [
        "### Load Data"
      ]
    },
    {
      "cell_type": "code",
      "execution_count": null,
      "metadata": {
        "id": "RGMRDFk_bZXw",
        "outputId": "9c4abaa3-3f75-4faf-a466-3de1047119ee"
      },
      "outputs": [
        {
          "name": "stdout",
          "output_type": "stream",
          "text": [
            "Read in 699 rows\n"
          ]
        },
        {
          "data": {
            "text/html": [
              "<div>\n",
              "<style scoped>\n",
              "    .dataframe tbody tr th:only-of-type {\n",
              "        vertical-align: middle;\n",
              "    }\n",
              "\n",
              "    .dataframe tbody tr th {\n",
              "        vertical-align: top;\n",
              "    }\n",
              "\n",
              "    .dataframe thead th {\n",
              "        text-align: right;\n",
              "    }\n",
              "</style>\n",
              "<table border=\"1\" class=\"dataframe\">\n",
              "  <thead>\n",
              "    <tr style=\"text-align: right;\">\n",
              "      <th></th>\n",
              "      <th>0</th>\n",
              "      <th>1</th>\n",
              "      <th>2</th>\n",
              "      <th>3</th>\n",
              "      <th>4</th>\n",
              "      <th>5</th>\n",
              "      <th>6</th>\n",
              "      <th>7</th>\n",
              "      <th>8</th>\n",
              "      <th>9</th>\n",
              "      <th>10</th>\n",
              "    </tr>\n",
              "  </thead>\n",
              "  <tbody>\n",
              "    <tr>\n",
              "      <th>0</th>\n",
              "      <td>1000025</td>\n",
              "      <td>5</td>\n",
              "      <td>1</td>\n",
              "      <td>1</td>\n",
              "      <td>1</td>\n",
              "      <td>2</td>\n",
              "      <td>1</td>\n",
              "      <td>3</td>\n",
              "      <td>1</td>\n",
              "      <td>1</td>\n",
              "      <td>2</td>\n",
              "    </tr>\n",
              "    <tr>\n",
              "      <th>1</th>\n",
              "      <td>1002945</td>\n",
              "      <td>5</td>\n",
              "      <td>4</td>\n",
              "      <td>4</td>\n",
              "      <td>5</td>\n",
              "      <td>7</td>\n",
              "      <td>10</td>\n",
              "      <td>3</td>\n",
              "      <td>2</td>\n",
              "      <td>1</td>\n",
              "      <td>2</td>\n",
              "    </tr>\n",
              "    <tr>\n",
              "      <th>2</th>\n",
              "      <td>1015425</td>\n",
              "      <td>3</td>\n",
              "      <td>1</td>\n",
              "      <td>1</td>\n",
              "      <td>1</td>\n",
              "      <td>2</td>\n",
              "      <td>2</td>\n",
              "      <td>3</td>\n",
              "      <td>1</td>\n",
              "      <td>1</td>\n",
              "      <td>2</td>\n",
              "    </tr>\n",
              "    <tr>\n",
              "      <th>3</th>\n",
              "      <td>1016277</td>\n",
              "      <td>6</td>\n",
              "      <td>8</td>\n",
              "      <td>8</td>\n",
              "      <td>1</td>\n",
              "      <td>3</td>\n",
              "      <td>4</td>\n",
              "      <td>3</td>\n",
              "      <td>7</td>\n",
              "      <td>1</td>\n",
              "      <td>2</td>\n",
              "    </tr>\n",
              "    <tr>\n",
              "      <th>4</th>\n",
              "      <td>1017023</td>\n",
              "      <td>4</td>\n",
              "      <td>1</td>\n",
              "      <td>1</td>\n",
              "      <td>3</td>\n",
              "      <td>2</td>\n",
              "      <td>1</td>\n",
              "      <td>3</td>\n",
              "      <td>1</td>\n",
              "      <td>1</td>\n",
              "      <td>2</td>\n",
              "    </tr>\n",
              "  </tbody>\n",
              "</table>\n",
              "</div>"
            ],
            "text/plain": [
              "        0   1   2   3   4   5   6   7   8   9   10\n",
              "0  1000025   5   1   1   1   2   1   3   1   1   2\n",
              "1  1002945   5   4   4   5   7  10   3   2   1   2\n",
              "2  1015425   3   1   1   1   2   2   3   1   1   2\n",
              "3  1016277   6   8   8   1   3   4   3   7   1   2\n",
              "4  1017023   4   1   1   3   2   1   3   1   1   2"
            ]
          },
          "execution_count": 1,
          "metadata": {},
          "output_type": "execute_result"
        }
      ],
      "source": [
        "import pandas as pd\n",
        "\n",
        "df = pd.read_csv(\"data/breast-cancer-wisconsin.data\", header=None) #file contains no header info\n",
        "print(f\"Read in {len(df)} rows\")\n",
        "df.head()"
      ]
    },
    {
      "cell_type": "markdown",
      "metadata": {
        "id": "qqxAVWlBbZXz"
      },
      "source": [
        "### Deal with Missing values"
      ]
    },
    {
      "cell_type": "markdown",
      "metadata": {
        "id": "37H4mW3NbZX0"
      },
      "source": [
        "There are 16 missing attribute values and we need to deal with them as they have the value '?' in them. We need integer values for processing the data. So let's deal with the missing values."
      ]
    },
    {
      "cell_type": "code",
      "execution_count": null,
      "metadata": {
        "id": "-jYIwW6gbZX0"
      },
      "outputs": [],
      "source": [
        "df.replace(\"?\", 10000, inplace=True) #10,000 is way beyond the range of columns provided so acts as an outlier"
      ]
    },
    {
      "cell_type": "markdown",
      "metadata": {
        "id": "k1tgwreUbZX1"
      },
      "source": [
        "### Feature Selection"
      ]
    },
    {
      "cell_type": "markdown",
      "metadata": {
        "id": "IsZpyiDAbZX1"
      },
      "source": [
        "The first column in the dataset is defined to be a \"sample code number\". This column should not have any bearing on the outcome of the test. So we will drop this column from our dataframe."
      ]
    },
    {
      "cell_type": "code",
      "execution_count": null,
      "metadata": {
        "id": "xBjb1gwQbZX3",
        "outputId": "8fa3b2a9-5b26-4144-d851-293cbe23fd47"
      },
      "outputs": [
        {
          "data": {
            "text/html": [
              "<div>\n",
              "<style scoped>\n",
              "    .dataframe tbody tr th:only-of-type {\n",
              "        vertical-align: middle;\n",
              "    }\n",
              "\n",
              "    .dataframe tbody tr th {\n",
              "        vertical-align: top;\n",
              "    }\n",
              "\n",
              "    .dataframe thead th {\n",
              "        text-align: right;\n",
              "    }\n",
              "</style>\n",
              "<table border=\"1\" class=\"dataframe\">\n",
              "  <thead>\n",
              "    <tr style=\"text-align: right;\">\n",
              "      <th></th>\n",
              "      <th>1</th>\n",
              "      <th>2</th>\n",
              "      <th>3</th>\n",
              "      <th>4</th>\n",
              "      <th>5</th>\n",
              "      <th>6</th>\n",
              "      <th>7</th>\n",
              "      <th>8</th>\n",
              "      <th>9</th>\n",
              "      <th>10</th>\n",
              "    </tr>\n",
              "  </thead>\n",
              "  <tbody>\n",
              "    <tr>\n",
              "      <th>0</th>\n",
              "      <td>5</td>\n",
              "      <td>1</td>\n",
              "      <td>1</td>\n",
              "      <td>1</td>\n",
              "      <td>2</td>\n",
              "      <td>1</td>\n",
              "      <td>3</td>\n",
              "      <td>1</td>\n",
              "      <td>1</td>\n",
              "      <td>2</td>\n",
              "    </tr>\n",
              "    <tr>\n",
              "      <th>1</th>\n",
              "      <td>5</td>\n",
              "      <td>4</td>\n",
              "      <td>4</td>\n",
              "      <td>5</td>\n",
              "      <td>7</td>\n",
              "      <td>10</td>\n",
              "      <td>3</td>\n",
              "      <td>2</td>\n",
              "      <td>1</td>\n",
              "      <td>2</td>\n",
              "    </tr>\n",
              "    <tr>\n",
              "      <th>2</th>\n",
              "      <td>3</td>\n",
              "      <td>1</td>\n",
              "      <td>1</td>\n",
              "      <td>1</td>\n",
              "      <td>2</td>\n",
              "      <td>2</td>\n",
              "      <td>3</td>\n",
              "      <td>1</td>\n",
              "      <td>1</td>\n",
              "      <td>2</td>\n",
              "    </tr>\n",
              "    <tr>\n",
              "      <th>3</th>\n",
              "      <td>6</td>\n",
              "      <td>8</td>\n",
              "      <td>8</td>\n",
              "      <td>1</td>\n",
              "      <td>3</td>\n",
              "      <td>4</td>\n",
              "      <td>3</td>\n",
              "      <td>7</td>\n",
              "      <td>1</td>\n",
              "      <td>2</td>\n",
              "    </tr>\n",
              "    <tr>\n",
              "      <th>4</th>\n",
              "      <td>4</td>\n",
              "      <td>1</td>\n",
              "      <td>1</td>\n",
              "      <td>3</td>\n",
              "      <td>2</td>\n",
              "      <td>1</td>\n",
              "      <td>3</td>\n",
              "      <td>1</td>\n",
              "      <td>1</td>\n",
              "      <td>2</td>\n",
              "    </tr>\n",
              "  </tbody>\n",
              "</table>\n",
              "</div>"
            ],
            "text/plain": [
              "   1   2   3   4   5   6   7   8   9   10\n",
              "0   5   1   1   1   2   1   3   1   1   2\n",
              "1   5   4   4   5   7  10   3   2   1   2\n",
              "2   3   1   1   1   2   2   3   1   1   2\n",
              "3   6   8   8   1   3   4   3   7   1   2\n",
              "4   4   1   1   3   2   1   3   1   1   2"
            ]
          },
          "execution_count": 3,
          "metadata": {},
          "output_type": "execute_result"
        }
      ],
      "source": [
        "df.drop([0], 1, inplace=True)\n",
        "df.head()"
      ]
    },
    {
      "cell_type": "markdown",
      "metadata": {
        "id": "yHVmOF8HbZX5"
      },
      "source": [
        "### Split dataset into Train and Test"
      ]
    },
    {
      "cell_type": "code",
      "execution_count": null,
      "metadata": {
        "id": "vTBYSdTobZX5"
      },
      "outputs": [],
      "source": [
        "import numpy as np\n",
        "from sklearn.model_selection import train_test_split\n",
        "\n",
        "X = np.array(df.drop([10], 1)) #last column contains label, so ignore it when creating X\n",
        "y = np.array(df[10]) #last column contains label which is our y\n",
        "\n",
        "X_train, X_test, y_train, y_test = train_test_split(X, y, test_size=0.25, random_state=43)"
      ]
    },
    {
      "cell_type": "markdown",
      "metadata": {
        "id": "M93jLjfBbZX6"
      },
      "source": [
        "## Train Models"
      ]
    },
    {
      "cell_type": "markdown",
      "metadata": {
        "id": "S0kuoGnHbZX7"
      },
      "source": [
        "We will train different models from the sklearn library on this data and see how each one performs."
      ]
    },
    {
      "cell_type": "code",
      "execution_count": null,
      "metadata": {
        "id": "XYTdmN7qbZX7"
      },
      "outputs": [],
      "source": [
        "names = [\"Logistic Regression\", \"Nearest Neighbors\", \"Linear SVM\", \"RBF SVM\", \"Gaussian Process\",\n",
        "         \"Decision Tree\", \"Random Forest\", \"Neural Net\", \"AdaBoost\",\n",
        "         \"Naive Bayes\", \"QDA\"]"
      ]
    },
    {
      "cell_type": "code",
      "execution_count": null,
      "metadata": {
        "id": "YQfXfvpQbZX8"
      },
      "outputs": [],
      "source": [
        "from sklearn.linear_model import LogisticRegression\n",
        "from sklearn.neighbors import KNeighborsClassifier\n",
        "from sklearn.svm import SVC\n",
        "from sklearn.gaussian_process import GaussianProcessClassifier\n",
        "from sklearn.gaussian_process.kernels import RBF\n",
        "from sklearn.tree import DecisionTreeClassifier\n",
        "from sklearn.ensemble import RandomForestClassifier, AdaBoostClassifier\n",
        "from sklearn.neural_network import MLPClassifier\n",
        "from sklearn.naive_bayes import GaussianNB\n",
        "from sklearn.discriminant_analysis import QuadraticDiscriminantAnalysis"
      ]
    },
    {
      "cell_type": "code",
      "execution_count": null,
      "metadata": {
        "id": "mlc7ihMgbZX9"
      },
      "outputs": [],
      "source": [
        "classifiers = [\n",
        "    LogisticRegression(max_iter=300),\n",
        "    KNeighborsClassifier(),\n",
        "    SVC(kernel=\"linear\", C=0.025),\n",
        "    SVC(gamma=2, C=1),\n",
        "    GaussianProcessClassifier(1.0 * RBF(1.0)),\n",
        "    DecisionTreeClassifier(max_depth=5, random_state=43),\n",
        "    RandomForestClassifier(max_depth=5, random_state=43),\n",
        "    MLPClassifier(alpha=1, max_iter=1000),\n",
        "    AdaBoostClassifier(),\n",
        "    GaussianNB(),\n",
        "    QuadraticDiscriminantAnalysis()]"
      ]
    },
    {
      "cell_type": "code",
      "execution_count": null,
      "metadata": {
        "id": "Eekq31c2bZX9",
        "outputId": "8d905f30-9d15-4296-db84-0228e5a5121d"
      },
      "outputs": [
        {
          "name": "stdout",
          "output_type": "stream",
          "text": [
            "Accuracy of Logistic Regression Classifier is:0.9714285714285714\n",
            "Accuracy of Nearest Neighbors Classifier is:0.9542857142857143\n",
            "Accuracy of Linear SVM Classifier is:0.96\n",
            "Accuracy of RBF SVM Classifier is:0.84\n",
            "Accuracy of Gaussian Process Classifier is:0.96\n",
            "Accuracy of Decision Tree Classifier is:0.9142857142857143\n",
            "Accuracy of Random Forest Classifier is:0.9771428571428571\n",
            "Accuracy of Neural Net Classifier is:0.8857142857142857\n",
            "Accuracy of AdaBoost Classifier is:0.9542857142857143\n",
            "Accuracy of Naive Bayes Classifier is:0.96\n",
            "Accuracy of QDA Classifier is:0.9542857142857143\n"
          ]
        }
      ],
      "source": [
        "# iterate over classifiers\n",
        "for name, clf in zip(names, classifiers):\n",
        "    clf.fit(X_train, y_train)\n",
        "    score = clf.score(X_test, y_test)\n",
        "    print(f\"Accuracy of {name} Classifier is:{score}\")\n"
      ]
    },
    {
      "cell_type": "markdown",
      "metadata": {
        "id": "hz8Ku6o1bZX-"
      },
      "source": [
        "Now lets see if we can improve the performance of these algorithms."
      ]
    },
    {
      "cell_type": "markdown",
      "metadata": {
        "id": "ibJuaK03bZX-"
      },
      "source": [
        "Standardize features by removing the mean and scaling to unit variance. Will be used with some of the algorithms."
      ]
    },
    {
      "cell_type": "code",
      "execution_count": null,
      "metadata": {
        "id": "gaFuoqjQbZX_"
      },
      "outputs": [],
      "source": [
        "from sklearn.preprocessing import StandardScaler\n",
        "\n",
        "scaler = StandardScaler()\n",
        "X_train_scaled = scaler.fit_transform(X_train)\n",
        "X_test_scaled = scaler.fit_transform(X_test)"
      ]
    },
    {
      "cell_type": "markdown",
      "metadata": {
        "id": "wHGmFDwxbZX_"
      },
      "source": [
        "### Logistic Regression"
      ]
    },
    {
      "cell_type": "code",
      "execution_count": null,
      "metadata": {
        "id": "PMYivuBWbZX_",
        "outputId": "a99b98bb-89c5-41ae-bcd4-f555879c021c"
      },
      "outputs": [
        {
          "name": "stdout",
          "output_type": "stream",
          "text": [
            "Accuracy of Logistic Regression Classifier is:0.9885714285714285\n"
          ]
        }
      ],
      "source": [
        "from sklearn.linear_model import LogisticRegression\n",
        "\n",
        "lr_model = LogisticRegression(random_state=43, class_weight={4: 2}, max_iter=500, n_jobs=-1)\n",
        "lr_model.fit(X_train, y_train)\n",
        "lr_accuracy = lr_model.score(X_test, y_test)\n",
        "print(f\"Accuracy of Logistic Regression Classifier is:{lr_accuracy}\")"
      ]
    },
    {
      "cell_type": "markdown",
      "metadata": {
        "id": "U_aRWp8hbZYA"
      },
      "source": [
        "We managed an improvement of over 1.7% in the overall accuracy score from 97.14% to 98.85%."
      ]
    },
    {
      "cell_type": "markdown",
      "metadata": {
        "id": "2VxKSArmbZYA"
      },
      "source": [
        "### K Nearest Neighbor Algorithm"
      ]
    },
    {
      "cell_type": "code",
      "execution_count": null,
      "metadata": {
        "id": "T8VMAqCsbZYB",
        "outputId": "26e54499-0014-43af-be52-c96524eb5ac2"
      },
      "outputs": [
        {
          "name": "stdout",
          "output_type": "stream",
          "text": [
            "Accuracy of kNN Classifier is:0.9657142857142857\n"
          ]
        }
      ],
      "source": [
        "from sklearn.neighbors import KNeighborsClassifier\n",
        "\n",
        "knn_model = KNeighborsClassifier(n_neighbors=3, n_jobs=-1)\n",
        "knn_model.fit(X_train_scaled, y_train)\n",
        "knn_accuracy = knn_model.score(X_test_scaled, y_test)\n",
        "print(f\"Accuracy of kNN Classifier is:{knn_accuracy}\")"
      ]
    },
    {
      "cell_type": "markdown",
      "metadata": {
        "id": "kWlNXoXabZYB"
      },
      "source": [
        "We managed an improvement of over 1.1% in the overall accuracy score from 95.42% to 96.57%."
      ]
    },
    {
      "cell_type": "markdown",
      "metadata": {
        "id": "n_j0yiYBbZYC"
      },
      "source": [
        "### Linear Support Vector Machines (SVM)"
      ]
    },
    {
      "cell_type": "code",
      "execution_count": null,
      "metadata": {
        "id": "vFPyYSRGbZYC",
        "outputId": "e5723d5f-1d54-47a5-c60b-1129edfd53a2"
      },
      "outputs": [
        {
          "name": "stdout",
          "output_type": "stream",
          "text": [
            "Accuracy of Linear SVM Classifier is:0.9885714285714285\n"
          ]
        }
      ],
      "source": [
        "from sklearn import svm\n",
        "\n",
        "svm_model = svm.SVC(random_state=43, kernel='linear', class_weight={4: 2})\n",
        "svm_model.fit(X_train, y_train)\n",
        "\n",
        "svm_accuracy = svm_model.score(X_test, y_test)\n",
        "print(f\"Accuracy of Linear SVM Classifier is:{svm_accuracy}\")"
      ]
    },
    {
      "cell_type": "markdown",
      "metadata": {
        "id": "4h93k9WxbZYC"
      },
      "source": [
        "We managed an improvement of over 2.8% in the overall accuracy score from 96.00% to 98.85%."
      ]
    },
    {
      "cell_type": "markdown",
      "metadata": {
        "id": "Sb1OqhyobZYD"
      },
      "source": [
        "### RBF Support Vector Machines (SVM)"
      ]
    },
    {
      "cell_type": "code",
      "execution_count": null,
      "metadata": {
        "id": "cug2YXKvbZYD",
        "outputId": "37e4fc47-5455-423a-9ca3-981ae6048419"
      },
      "outputs": [
        {
          "name": "stdout",
          "output_type": "stream",
          "text": [
            "The best parameters are {'C': 10000000.0, 'gamma': 1e-06} with a score of 0.95\n"
          ]
        }
      ],
      "source": [
        "from sklearn import svm\n",
        "from sklearn.model_selection import StratifiedShuffleSplit\n",
        "from sklearn.model_selection import GridSearchCV\n",
        "\n",
        "C_range = np.logspace(-2, 10, 13)\n",
        "gamma_range = np.logspace(-9, 3, 13)\n",
        "param_grid = dict(gamma=gamma_range, C=C_range)\n",
        "cv = StratifiedShuffleSplit(n_splits=5, test_size=0.2, random_state=43)\n",
        "grid = GridSearchCV(SVC(), param_grid=param_grid, cv=cv)\n",
        "grid.fit(X_train_scaled, y_train)\n",
        "\n",
        "print(\"The best parameters are %s with a score of %0.2f\"\n",
        "      % (grid.best_params_, grid.best_score_))"
      ]
    },
    {
      "cell_type": "code",
      "execution_count": null,
      "metadata": {
        "id": "iA8NNUsTbZYD",
        "outputId": "e5356264-1007-4e4f-d24e-128a9f8389cd"
      },
      "outputs": [
        {
          "name": "stdout",
          "output_type": "stream",
          "text": [
            "Accuracy of RBF SVM Classifier is:0.9828571428571429\n"
          ]
        }
      ],
      "source": [
        "rbf_svm_model = svm.SVC(gamma=0.01, C=100, class_weight={4: 2})\n",
        "rbf_svm_model.fit(X_train_scaled, y_train)\n",
        "\n",
        "rbf_svm_accuracy = rbf_svm_model.score(X_test_scaled, y_test)\n",
        "print(f\"Accuracy of RBF SVM Classifier is:{rbf_svm_accuracy}\")"
      ]
    },
    {
      "cell_type": "markdown",
      "metadata": {
        "id": "cDIFDyBVbZYE"
      },
      "source": [
        "We managed an improvement of over 14.2% in the overall accuracy score from 84.00% to 98.28%."
      ]
    },
    {
      "cell_type": "markdown",
      "metadata": {
        "id": "TtehgbUTbZYF"
      },
      "source": [
        "### Gaussian Process Classifier"
      ]
    },
    {
      "cell_type": "code",
      "execution_count": null,
      "metadata": {
        "id": "LEr50mpJbZYF",
        "outputId": "641b83d5-56ff-4869-eecd-a4cb6d00c920"
      },
      "outputs": [
        {
          "name": "stdout",
          "output_type": "stream",
          "text": [
            "Accuracy of Gaussian Process Classifier is:0.9657142857142857\n"
          ]
        }
      ],
      "source": [
        "from sklearn.gaussian_process import GaussianProcessClassifier\n",
        "from sklearn.gaussian_process.kernels import RBF\n",
        "\n",
        "kernel = 1.0 * RBF(1.0)\n",
        "gpc_model = GaussianProcessClassifier(kernel, random_state=43, max_iter_predict=1000, n_jobs=-1)\n",
        "gpc_model.fit(X_train_scaled, y_train)\n",
        "\n",
        "gpc_accuracy = gpc_model.score(X_test_scaled, y_test)\n",
        "print(f\"Accuracy of Gaussian Process Classifier is:{gpc_accuracy}\")"
      ]
    },
    {
      "cell_type": "markdown",
      "metadata": {
        "id": "G58qOz25bZYG"
      },
      "source": [
        "We managed an improvement of over 0.5% in the overall accuracy score from 96.00% to 96.57%."
      ]
    },
    {
      "cell_type": "markdown",
      "metadata": {
        "id": "9nIuA3tvbZYG"
      },
      "source": [
        "### Decision Trees"
      ]
    },
    {
      "cell_type": "code",
      "execution_count": null,
      "metadata": {
        "id": "S4yY7a0xbZYH",
        "outputId": "90396aca-a264-4713-9d7c-b0ba5d8528fb"
      },
      "outputs": [
        {
          "name": "stdout",
          "output_type": "stream",
          "text": [
            "The best parameters are {'max_depth': 4.0} with a score of 0.94\n"
          ]
        }
      ],
      "source": [
        "from sklearn import tree\n",
        "\n",
        "max_depth_range = np.linspace(1, 10, 10)\n",
        "param_grid = dict(max_depth=max_depth_range)\n",
        "cv = StratifiedShuffleSplit(n_splits=5, test_size=0.2, random_state=43)\n",
        "grid = GridSearchCV(DecisionTreeClassifier(class_weight={4: 2}), param_grid=param_grid, cv=cv)\n",
        "grid.fit(X_train, y_train)\n",
        "\n",
        "print(\"The best parameters are %s with a score of %0.2f\"\n",
        "      % (grid.best_params_, grid.best_score_))\n",
        "\n"
      ]
    },
    {
      "cell_type": "code",
      "execution_count": null,
      "metadata": {
        "id": "C674qYbubZYH",
        "outputId": "090726b8-58ac-478a-dee6-c798082fd6dc"
      },
      "outputs": [
        {
          "name": "stdout",
          "output_type": "stream",
          "text": [
            "Accuracy of Decision Tree Classifier is:0.96\n"
          ]
        }
      ],
      "source": [
        "tree_model = tree.DecisionTreeClassifier(class_weight={4: 2}, max_depth=4, random_state=43)\n",
        "tree_model.fit(X_train, y_train)\n",
        "\n",
        "tree_accuracy = tree_model.score(X_test, y_test)\n",
        "print(f\"Accuracy of Decision Tree Classifier is:{tree_accuracy}\")"
      ]
    },
    {
      "cell_type": "markdown",
      "metadata": {
        "id": "pSFfCYM8bZYI"
      },
      "source": [
        "We managed an improvement of over 4.58% in the overall accuracy score from 91.42% to 96.00%."
      ]
    },
    {
      "cell_type": "markdown",
      "metadata": {
        "id": "hsjUbExtbZYI"
      },
      "source": [
        "### Random Forest"
      ]
    },
    {
      "cell_type": "code",
      "execution_count": null,
      "metadata": {
        "id": "L7qYGxYkbZYI",
        "outputId": "dff89c40-cd99-4131-f01a-3a889cd49b57"
      },
      "outputs": [
        {
          "name": "stdout",
          "output_type": "stream",
          "text": [
            "The best parameters are {'max_depth': 4.0, 'max_features': 2} with a score of 0.97\n"
          ]
        }
      ],
      "source": [
        "from sklearn.ensemble import RandomForestClassifier\n",
        "\n",
        "max_depth_range = np.linspace(1, 10, 10)\n",
        "max_features_range = np.arange(1, 10, 1)\n",
        "param_grid = dict(max_depth=max_depth_range, max_features=max_features_range)\n",
        "cv = StratifiedShuffleSplit(n_splits=5, test_size=0.2, random_state=43)\n",
        "grid = GridSearchCV(RandomForestClassifier(class_weight={4: 2}, random_state=43), param_grid=param_grid, cv=cv)\n",
        "grid.fit(X_train, y_train)\n",
        "\n",
        "print(\"The best parameters are %s with a score of %0.2f\"\n",
        "      % (grid.best_params_, grid.best_score_))"
      ]
    },
    {
      "cell_type": "code",
      "execution_count": null,
      "metadata": {
        "id": "Qa9NjYpBbZYJ",
        "outputId": "1cc90934-5ae3-4e16-8af3-547c97f13b71"
      },
      "outputs": [
        {
          "name": "stdout",
          "output_type": "stream",
          "text": [
            "Accuracy of Random Forest Classifier is:0.9771428571428571\n"
          ]
        }
      ],
      "source": [
        "from sklearn.ensemble import RandomForestClassifier\n",
        "\n",
        "rf_model = RandomForestClassifier(class_weight={4: 2}, max_depth=4, n_estimators=300, max_features=2, random_state=43, n_jobs=-1)\n",
        "rf_model.fit(X_train, y_train)\n",
        "\n",
        "rf_accuracy = rf_model.score(X_test, y_test)\n",
        "print(f\"Accuracy of Random Forest Classifier is:{rf_accuracy}\")"
      ]
    },
    {
      "cell_type": "markdown",
      "metadata": {
        "id": "bwEmG4CHbZYJ"
      },
      "source": [
        "We are unable to improve score from 97.71%."
      ]
    },
    {
      "cell_type": "markdown",
      "metadata": {
        "id": "GEmxn0qEbZYK"
      },
      "source": [
        "### Neural Network"
      ]
    },
    {
      "cell_type": "code",
      "execution_count": null,
      "metadata": {
        "id": "fCyYnM5gbZYK",
        "outputId": "6894f481-3b98-4243-c9cb-d4ea7700bb73"
      },
      "outputs": [
        {
          "name": "stdout",
          "output_type": "stream",
          "text": [
            "Accuracy of MLP Classifier is:0.9428571428571428\n"
          ]
        }
      ],
      "source": [
        "from sklearn.neural_network import MLPClassifier\n",
        "\n",
        "nn_model = MLPClassifier(solver='lbfgs', alpha=1e-5, hidden_layer_sizes=(100,), random_state=43, max_iter=1000, learning_rate='adaptive')\n",
        "nn_model.fit(X_train_scaled, y_train)\n",
        "nn_accuracy = nn_model.score(X_test_scaled, y_test)\n",
        "print(f\"Accuracy of MLP Classifier is:{nn_accuracy}\")"
      ]
    },
    {
      "cell_type": "markdown",
      "metadata": {
        "id": "Rg4xkiWdbZYK"
      },
      "source": [
        "We managed an improvement of over 5.85% in the overall accuracy score from 88.57% to 94.42%."
      ]
    },
    {
      "cell_type": "markdown",
      "metadata": {
        "id": "WkeK-6d-bZYL"
      },
      "source": [
        "### AdaBoost"
      ]
    },
    {
      "cell_type": "code",
      "execution_count": null,
      "metadata": {
        "id": "985zwYlibZYL",
        "outputId": "25e40be8-acf3-45c2-caf9-9fd6096c6b73"
      },
      "outputs": [
        {
          "name": "stdout",
          "output_type": "stream",
          "text": [
            "Accuracy of Ada Boost Classifier is:0.96\n"
          ]
        }
      ],
      "source": [
        "from sklearn.ensemble import AdaBoostClassifier\n",
        "\n",
        "ada_model = AdaBoostClassifier(random_state=43, n_estimators=100)\n",
        "ada_model.fit(X_train, y_train)\n",
        "ada_accuracy = ada_model.score(X_test, y_test)\n",
        "print(f\"Accuracy of Ada Boost Classifier is:{ada_accuracy}\")"
      ]
    },
    {
      "cell_type": "markdown",
      "metadata": {
        "id": "M4HX1d72bZYM"
      },
      "source": [
        "We managed an improvement of over 0.58% in the overall accuracy score from 95.42% to 96.00%."
      ]
    },
    {
      "cell_type": "markdown",
      "metadata": {
        "id": "GiC0LJfkbZYM"
      },
      "source": [
        "### Gaussian Naive Bayes"
      ]
    },
    {
      "cell_type": "code",
      "execution_count": null,
      "metadata": {
        "id": "a6p1-BJ1bZYN",
        "outputId": "1b93b0fd-22a2-4e52-c226-dacd871c669e"
      },
      "outputs": [
        {
          "name": "stdout",
          "output_type": "stream",
          "text": [
            "Accuracy of Gaussian Naive Bayes Classifier is:0.96\n"
          ]
        }
      ],
      "source": [
        "from sklearn.naive_bayes import GaussianNB\n",
        "\n",
        "gnb_model = GaussianNB()\n",
        "gnb_model.fit(X_train, y_train)\n",
        "gnb_accuracy = gnb_model.score(X_test, y_test)\n",
        "print(f\"Accuracy of Gaussian Naive Bayes Classifier is:{gnb_accuracy}\")"
      ]
    },
    {
      "cell_type": "markdown",
      "metadata": {
        "id": "MM4C8N0RbZYN"
      },
      "source": [
        "We are unable to improve score from 96.00%."
      ]
    },
    {
      "cell_type": "markdown",
      "metadata": {
        "id": "scrD2aQhbZYO"
      },
      "source": [
        "### Quadratic Discriminant Analysis"
      ]
    },
    {
      "cell_type": "code",
      "execution_count": null,
      "metadata": {
        "id": "tWdlr4dEbZYO",
        "outputId": "d12ae3ac-877d-4681-ee68-7e534004a20b"
      },
      "outputs": [
        {
          "name": "stdout",
          "output_type": "stream",
          "text": [
            "Accuracy of Quadratic Discriminant Analysis Classifier is:0.9542857142857143\n"
          ]
        }
      ],
      "source": [
        "from sklearn.discriminant_analysis import QuadraticDiscriminantAnalysis\n",
        "\n",
        "qda_model = QuadraticDiscriminantAnalysis()\n",
        "qda_model.fit(X_train, y_train)\n",
        "qda_accuracy = qda_model.score(X_test, y_test)\n",
        "print(f\"Accuracy of Quadratic Discriminant Analysis Classifier is:{qda_accuracy}\")"
      ]
    },
    {
      "cell_type": "markdown",
      "metadata": {
        "id": "RigMyK8RbZYP"
      },
      "source": [
        "We are unable to improve score from 95.42%."
      ]
    }
  ],
  "metadata": {
    "kernelspec": {
      "display_name": "Python 3",
      "language": "python",
      "name": "python3"
    },
    "language_info": {
      "codemirror_mode": {
        "name": "ipython",
        "version": 3
      },
      "file_extension": ".py",
      "mimetype": "text/x-python",
      "name": "python",
      "nbconvert_exporter": "python",
      "pygments_lexer": "ipython3",
      "version": "3.7.3"
    },
    "toc": {
      "base_numbering": 1,
      "nav_menu": {},
      "number_sections": true,
      "sideBar": true,
      "skip_h1_title": false,
      "title_cell": "Table of Contents",
      "title_sidebar": "Contents",
      "toc_cell": false,
      "toc_position": {},
      "toc_section_display": true,
      "toc_window_display": false
    },
    "colab": {
      "provenance": []
    }
  },
  "nbformat": 4,
  "nbformat_minor": 0
}